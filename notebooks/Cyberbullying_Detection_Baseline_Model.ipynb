{
  "nbformat": 4,
  "nbformat_minor": 0,
  "metadata": {
    "colab": {
      "name": "Cyberbullying Detection Baseline Model.ipynb",
      "provenance": [],
      "collapsed_sections": []
    },
    "kernelspec": {
      "name": "python3",
      "display_name": "Python 3"
    },
    "language_info": {
      "name": "python"
    },
    "gpuClass": "standard",
    "accelerator": "GPU"
  },
  "cells": [
    {
      "cell_type": "markdown",
      "source": [
        "**Import Libraries**"
      ],
      "metadata": {
        "id": "DNPEFHDP-alO"
      }
    },
    {
      "cell_type": "code",
      "source": [
        "import pandas as pd\n",
        "import numpy as np\n",
        "\n",
        "from sklearn.model_selection import train_test_split, GridSearchCV, RandomizedSearchCV\n",
        "from sklearn.feature_extraction.text import CountVectorizer, TfidfTransformer\n",
        "from sklearn.ensemble import RandomForestClassifier\n",
        "from sklearn.naive_bayes import MultinomialNB\n",
        "\n",
        "from sklearn.metrics import confusion_matrix,f1_score\n",
        "\n",
        "import xgboost as xgb"
      ],
      "metadata": {
        "id": "2Kct_8S7_FSU"
      },
      "execution_count": null,
      "outputs": []
    },
    {
      "cell_type": "code",
      "source": [
        "local_path = \"C:\\\\Greenwich\\\\MSc Project\\\\project_code\\\\\"\n",
        "store_local = False"
      ],
      "metadata": {
        "id": "jOrOp3Ur_Qqp"
      },
      "execution_count": null,
      "outputs": []
    },
    {
      "cell_type": "markdown",
      "source": [
        "**Load Data**"
      ],
      "metadata": {
        "id": "J3A0BNNL_H_1"
      }
    },
    {
      "cell_type": "code",
      "source": [
        "full_train_data = pd.read_csv(\"https://github.com/Voldegin/hate_speech_detection/blob/develop/data/mixed/mixed_train_data.csv?raw=true\")\n",
        "test_data = pd.read_csv(\"https://github.com/Voldegin/hate_speech_detection/blob/develop/data/mixed/mixed_test_data.csv?raw=true\")"
      ],
      "metadata": {
        "id": "IEribVeb_LUO"
      },
      "execution_count": null,
      "outputs": []
    },
    {
      "cell_type": "code",
      "source": [
        "len(full_train_data), len(test_data)"
      ],
      "metadata": {
        "id": "CrlCBiT9EiXX",
        "outputId": "6b230aa6-b6fa-4bab-f07c-e9c98a0b34aa",
        "colab": {
          "base_uri": "https://localhost:8080/"
        }
      },
      "execution_count": null,
      "outputs": [
        {
          "output_type": "execute_result",
          "data": {
            "text/plain": [
              "(89979, 10000)"
            ]
          },
          "metadata": {},
          "execution_count": 4
        }
      ]
    },
    {
      "cell_type": "code",
      "source": [
        "train_data, val_data = train_test_split(full_train_data,test_size=5000,random_state=21)"
      ],
      "metadata": {
        "id": "Eq50gLVF_eY_"
      },
      "execution_count": null,
      "outputs": []
    },
    {
      "cell_type": "code",
      "source": [
        "len(train_data), len(val_data), len(test_data)"
      ],
      "metadata": {
        "colab": {
          "base_uri": "https://localhost:8080/"
        },
        "id": "c08Av9Z9Ft4x",
        "outputId": "d2c9c55f-382c-4dbe-97a3-373c5a008f09"
      },
      "execution_count": null,
      "outputs": [
        {
          "output_type": "execute_result",
          "data": {
            "text/plain": [
              "(84979, 5000, 10000)"
            ]
          },
          "metadata": {},
          "execution_count": 6
        }
      ]
    },
    {
      "cell_type": "markdown",
      "source": [
        "**Splitting into labels and features**"
      ],
      "metadata": {
        "id": "bHeJvV1TF1yJ"
      }
    },
    {
      "cell_type": "code",
      "source": [
        "train_data.head()"
      ],
      "metadata": {
        "colab": {
          "base_uri": "https://localhost:8080/",
          "height": 206
        },
        "id": "uR_8fN9GGXSc",
        "outputId": "f5627312-e952-4b53-d5ec-401b779a6903"
      },
      "execution_count": null,
      "outputs": [
        {
          "output_type": "execute_result",
          "data": {
            "text/plain": [
              "                                              tweet_text  is_cyberbullying  \\\n",
              "51990  \"\\n Yes, it is. But a demo is not notable enou...                 0   \n",
              "5095   Has it occurred to you that I wouldn't tell so...                 1   \n",
              "64041  Notice of Edit warring noticeboard discussion\\...                 0   \n",
              "53391  \":It doesn't even seem that an amendment is su...                 0   \n",
              "10     \"\\n\\nUNBLOCK ME OR I'LL GET MY LAWYERS ON TO Y...                 1   \n",
              "\n",
              "                                                 cleaned  \n",
              "51990  ye is demo notabl enough headlin alreadi writt...  \n",
              "5095   occur tell someon fuck first refer edit bullsh...  \n",
              "64041  notic edit war noticeboard discuss hello messa...  \n",
              "53391  it even seem amend subject p5 vote perman five...  \n",
              "10     unblock ill get lawyer block constitut right f...  "
            ],
            "text/html": [
              "\n",
              "  <div id=\"df-daaf8c68-5bfc-4fd6-8b43-12b62effd9a7\">\n",
              "    <div class=\"colab-df-container\">\n",
              "      <div>\n",
              "<style scoped>\n",
              "    .dataframe tbody tr th:only-of-type {\n",
              "        vertical-align: middle;\n",
              "    }\n",
              "\n",
              "    .dataframe tbody tr th {\n",
              "        vertical-align: top;\n",
              "    }\n",
              "\n",
              "    .dataframe thead th {\n",
              "        text-align: right;\n",
              "    }\n",
              "</style>\n",
              "<table border=\"1\" class=\"dataframe\">\n",
              "  <thead>\n",
              "    <tr style=\"text-align: right;\">\n",
              "      <th></th>\n",
              "      <th>tweet_text</th>\n",
              "      <th>is_cyberbullying</th>\n",
              "      <th>cleaned</th>\n",
              "    </tr>\n",
              "  </thead>\n",
              "  <tbody>\n",
              "    <tr>\n",
              "      <th>51990</th>\n",
              "      <td>\"\\n Yes, it is. But a demo is not notable enou...</td>\n",
              "      <td>0</td>\n",
              "      <td>ye is demo notabl enough headlin alreadi writt...</td>\n",
              "    </tr>\n",
              "    <tr>\n",
              "      <th>5095</th>\n",
              "      <td>Has it occurred to you that I wouldn't tell so...</td>\n",
              "      <td>1</td>\n",
              "      <td>occur tell someon fuck first refer edit bullsh...</td>\n",
              "    </tr>\n",
              "    <tr>\n",
              "      <th>64041</th>\n",
              "      <td>Notice of Edit warring noticeboard discussion\\...</td>\n",
              "      <td>0</td>\n",
              "      <td>notic edit war noticeboard discuss hello messa...</td>\n",
              "    </tr>\n",
              "    <tr>\n",
              "      <th>53391</th>\n",
              "      <td>\":It doesn't even seem that an amendment is su...</td>\n",
              "      <td>0</td>\n",
              "      <td>it even seem amend subject p5 vote perman five...</td>\n",
              "    </tr>\n",
              "    <tr>\n",
              "      <th>10</th>\n",
              "      <td>\"\\n\\nUNBLOCK ME OR I'LL GET MY LAWYERS ON TO Y...</td>\n",
              "      <td>1</td>\n",
              "      <td>unblock ill get lawyer block constitut right f...</td>\n",
              "    </tr>\n",
              "  </tbody>\n",
              "</table>\n",
              "</div>\n",
              "      <button class=\"colab-df-convert\" onclick=\"convertToInteractive('df-daaf8c68-5bfc-4fd6-8b43-12b62effd9a7')\"\n",
              "              title=\"Convert this dataframe to an interactive table.\"\n",
              "              style=\"display:none;\">\n",
              "        \n",
              "  <svg xmlns=\"http://www.w3.org/2000/svg\" height=\"24px\"viewBox=\"0 0 24 24\"\n",
              "       width=\"24px\">\n",
              "    <path d=\"M0 0h24v24H0V0z\" fill=\"none\"/>\n",
              "    <path d=\"M18.56 5.44l.94 2.06.94-2.06 2.06-.94-2.06-.94-.94-2.06-.94 2.06-2.06.94zm-11 1L8.5 8.5l.94-2.06 2.06-.94-2.06-.94L8.5 2.5l-.94 2.06-2.06.94zm10 10l.94 2.06.94-2.06 2.06-.94-2.06-.94-.94-2.06-.94 2.06-2.06.94z\"/><path d=\"M17.41 7.96l-1.37-1.37c-.4-.4-.92-.59-1.43-.59-.52 0-1.04.2-1.43.59L10.3 9.45l-7.72 7.72c-.78.78-.78 2.05 0 2.83L4 21.41c.39.39.9.59 1.41.59.51 0 1.02-.2 1.41-.59l7.78-7.78 2.81-2.81c.8-.78.8-2.07 0-2.86zM5.41 20L4 18.59l7.72-7.72 1.47 1.35L5.41 20z\"/>\n",
              "  </svg>\n",
              "      </button>\n",
              "      \n",
              "  <style>\n",
              "    .colab-df-container {\n",
              "      display:flex;\n",
              "      flex-wrap:wrap;\n",
              "      gap: 12px;\n",
              "    }\n",
              "\n",
              "    .colab-df-convert {\n",
              "      background-color: #E8F0FE;\n",
              "      border: none;\n",
              "      border-radius: 50%;\n",
              "      cursor: pointer;\n",
              "      display: none;\n",
              "      fill: #1967D2;\n",
              "      height: 32px;\n",
              "      padding: 0 0 0 0;\n",
              "      width: 32px;\n",
              "    }\n",
              "\n",
              "    .colab-df-convert:hover {\n",
              "      background-color: #E2EBFA;\n",
              "      box-shadow: 0px 1px 2px rgba(60, 64, 67, 0.3), 0px 1px 3px 1px rgba(60, 64, 67, 0.15);\n",
              "      fill: #174EA6;\n",
              "    }\n",
              "\n",
              "    [theme=dark] .colab-df-convert {\n",
              "      background-color: #3B4455;\n",
              "      fill: #D2E3FC;\n",
              "    }\n",
              "\n",
              "    [theme=dark] .colab-df-convert:hover {\n",
              "      background-color: #434B5C;\n",
              "      box-shadow: 0px 1px 3px 1px rgba(0, 0, 0, 0.15);\n",
              "      filter: drop-shadow(0px 1px 2px rgba(0, 0, 0, 0.3));\n",
              "      fill: #FFFFFF;\n",
              "    }\n",
              "  </style>\n",
              "\n",
              "      <script>\n",
              "        const buttonEl =\n",
              "          document.querySelector('#df-daaf8c68-5bfc-4fd6-8b43-12b62effd9a7 button.colab-df-convert');\n",
              "        buttonEl.style.display =\n",
              "          google.colab.kernel.accessAllowed ? 'block' : 'none';\n",
              "\n",
              "        async function convertToInteractive(key) {\n",
              "          const element = document.querySelector('#df-daaf8c68-5bfc-4fd6-8b43-12b62effd9a7');\n",
              "          const dataTable =\n",
              "            await google.colab.kernel.invokeFunction('convertToInteractive',\n",
              "                                                     [key], {});\n",
              "          if (!dataTable) return;\n",
              "\n",
              "          const docLinkHtml = 'Like what you see? Visit the ' +\n",
              "            '<a target=\"_blank\" href=https://colab.research.google.com/notebooks/data_table.ipynb>data table notebook</a>'\n",
              "            + ' to learn more about interactive tables.';\n",
              "          element.innerHTML = '';\n",
              "          dataTable['output_type'] = 'display_data';\n",
              "          await google.colab.output.renderOutput(dataTable, element);\n",
              "          const docLink = document.createElement('div');\n",
              "          docLink.innerHTML = docLinkHtml;\n",
              "          element.appendChild(docLink);\n",
              "        }\n",
              "      </script>\n",
              "    </div>\n",
              "  </div>\n",
              "  "
            ]
          },
          "metadata": {},
          "execution_count": 7
        }
      ]
    },
    {
      "cell_type": "code",
      "source": [
        "def split_label_and_feature(data):\n",
        "    return data['cleaned'], data['is_cyberbullying']"
      ],
      "metadata": {
        "id": "9iRi28GvGP8j"
      },
      "execution_count": null,
      "outputs": []
    },
    {
      "cell_type": "code",
      "source": [
        "X_train, y_train = split_label_and_feature(train_data)\n",
        "X_val, y_val = split_label_and_feature(val_data)\n",
        "X_test, y_test = split_label_and_feature(test_data)"
      ],
      "metadata": {
        "id": "XdTKDEWJGbFl"
      },
      "execution_count": null,
      "outputs": []
    },
    {
      "cell_type": "markdown",
      "source": [
        "**Model Training**"
      ],
      "metadata": {
        "id": "d25yDE2UOTH0"
      }
    },
    {
      "cell_type": "code",
      "source": [
        "clf = CountVectorizer()\n",
        "X_train_cv =  clf.fit_transform(X_train)\n",
        "\n",
        "tf_transformer = TfidfTransformer(use_idf=True).fit(X_train_cv)\n",
        "X_train_tf = tf_transformer.transform(X_train_cv)"
      ],
      "metadata": {
        "id": "N9_i7lkNGu2U"
      },
      "execution_count": null,
      "outputs": []
    },
    {
      "cell_type": "code",
      "source": [
        "X_val_cv = clf.transform(X_val)\n",
        "X_val_tf = tf_transformer.transform(X_val_cv)"
      ],
      "metadata": {
        "id": "9CDnUkWz001L"
      },
      "execution_count": null,
      "outputs": []
    },
    {
      "cell_type": "markdown",
      "source": [
        "**Random Forest**"
      ],
      "metadata": {
        "id": "shtBx1YHkyjU"
      }
    },
    {
      "cell_type": "code",
      "source": [
        "rf_model = RandomForestClassifier(n_estimators=500)\n",
        "rf_model.fit(X_train_tf,y_train)"
      ],
      "metadata": {
        "id": "pPgFj3dgHpkO",
        "colab": {
          "base_uri": "https://localhost:8080/"
        },
        "outputId": "a6d0a5ee-f02f-478d-cedb-6c3ba51e1f76"
      },
      "execution_count": null,
      "outputs": [
        {
          "output_type": "execute_result",
          "data": {
            "text/plain": [
              "RandomForestClassifier(n_estimators=500)"
            ]
          },
          "metadata": {},
          "execution_count": 12
        }
      ]
    },
    {
      "cell_type": "code",
      "source": [
        "predictions = rf_model.predict(X_val_tf)"
      ],
      "metadata": {
        "id": "gTDdJPC-HtH7"
      },
      "execution_count": null,
      "outputs": []
    },
    {
      "cell_type": "code",
      "source": [
        "confusion_matrix(y_val,predictions)"
      ],
      "metadata": {
        "id": "KbZzp6sFN7bI",
        "colab": {
          "base_uri": "https://localhost:8080/"
        },
        "outputId": "caf3a1b5-2594-4acb-c2a0-b0220113b1f0"
      },
      "execution_count": null,
      "outputs": [
        {
          "output_type": "execute_result",
          "data": {
            "text/plain": [
              "array([[2352,  224],\n",
              "       [ 323, 2101]])"
            ]
          },
          "metadata": {},
          "execution_count": 14
        }
      ]
    },
    {
      "cell_type": "code",
      "source": [
        "f1_score(y_val,predictions)"
      ],
      "metadata": {
        "id": "be0tPNNMN-d1",
        "colab": {
          "base_uri": "https://localhost:8080/"
        },
        "outputId": "3f6de49e-0f0a-4174-e27b-4340cdf58c31"
      },
      "execution_count": null,
      "outputs": [
        {
          "output_type": "execute_result",
          "data": {
            "text/plain": [
              "0.8848178563908191"
            ]
          },
          "metadata": {},
          "execution_count": 15
        }
      ]
    },
    {
      "cell_type": "markdown",
      "source": [
        "**Naive Baiyes**"
      ],
      "metadata": {
        "id": "O48i03BMOY1T"
      }
    },
    {
      "cell_type": "code",
      "source": [
        "nb_model = MultinomialNB()\n",
        "nb_model.fit(X_train_tf, y_train)"
      ],
      "metadata": {
        "id": "_OSFqtglk159",
        "colab": {
          "base_uri": "https://localhost:8080/"
        },
        "outputId": "91cdb29a-7566-42d7-a42c-3321d4b633ee"
      },
      "execution_count": null,
      "outputs": [
        {
          "output_type": "execute_result",
          "data": {
            "text/plain": [
              "MultinomialNB()"
            ]
          },
          "metadata": {},
          "execution_count": 16
        }
      ]
    },
    {
      "cell_type": "code",
      "source": [
        "predictions = nb_model.predict(X_val_tf)"
      ],
      "metadata": {
        "id": "mBH1aWT9lIpi"
      },
      "execution_count": null,
      "outputs": []
    },
    {
      "cell_type": "code",
      "source": [
        "confusion_matrix(y_val,predictions)"
      ],
      "metadata": {
        "id": "FDdZ_GSrk2Ow",
        "colab": {
          "base_uri": "https://localhost:8080/"
        },
        "outputId": "387cfc9e-536a-42dc-a694-a8e932e67d02"
      },
      "execution_count": null,
      "outputs": [
        {
          "output_type": "execute_result",
          "data": {
            "text/plain": [
              "array([[2149,  427],\n",
              "       [ 257, 2167]])"
            ]
          },
          "metadata": {},
          "execution_count": 18
        }
      ]
    },
    {
      "cell_type": "code",
      "source": [
        "f1_score(y_val,predictions)"
      ],
      "metadata": {
        "id": "YlnCOwLXlL_l",
        "colab": {
          "base_uri": "https://localhost:8080/"
        },
        "outputId": "eb26d26e-1671-4f72-e6ee-9018f8d4aaf7"
      },
      "execution_count": null,
      "outputs": [
        {
          "output_type": "execute_result",
          "data": {
            "text/plain": [
              "0.8636907134316462"
            ]
          },
          "metadata": {},
          "execution_count": 19
        }
      ]
    },
    {
      "cell_type": "markdown",
      "source": [
        "**XGBoost**"
      ],
      "metadata": {
        "id": "ScOeemJttSV-"
      }
    },
    {
      "cell_type": "code",
      "source": [
        "xgb_model = xgb.XGBClassifier(n_estimators=500)\n",
        "xgb_model.fit(X_train_tf, y_train)"
      ],
      "metadata": {
        "id": "M_49ZKKNzxoW",
        "colab": {
          "base_uri": "https://localhost:8080/"
        },
        "outputId": "e38f6fcd-ce4d-43da-fffa-9223fb126298"
      },
      "execution_count": null,
      "outputs": [
        {
          "output_type": "execute_result",
          "data": {
            "text/plain": [
              "XGBClassifier(n_estimators=500)"
            ]
          },
          "metadata": {},
          "execution_count": 20
        }
      ]
    },
    {
      "cell_type": "code",
      "source": [
        "predictions = xgb_model.predict(X_val_tf)"
      ],
      "metadata": {
        "id": "isaKcT7j0OAm"
      },
      "execution_count": null,
      "outputs": []
    },
    {
      "cell_type": "code",
      "source": [
        "confusion_matrix(y_val,predictions)"
      ],
      "metadata": {
        "id": "HFZVKdmA0RZ7",
        "colab": {
          "base_uri": "https://localhost:8080/"
        },
        "outputId": "00fc7686-4c6c-471c-94b2-ea3ebb4a78d3"
      },
      "execution_count": null,
      "outputs": [
        {
          "output_type": "execute_result",
          "data": {
            "text/plain": [
              "array([[2445,  131],\n",
              "       [ 446, 1978]])"
            ]
          },
          "metadata": {},
          "execution_count": 22
        }
      ]
    },
    {
      "cell_type": "code",
      "source": [
        "f1_score(y_val,predictions)"
      ],
      "metadata": {
        "id": "MA4kK9Zi0SYe",
        "colab": {
          "base_uri": "https://localhost:8080/"
        },
        "outputId": "da608cc3-4256-4e5e-da8a-9d0ef224d645"
      },
      "execution_count": null,
      "outputs": [
        {
          "output_type": "execute_result",
          "data": {
            "text/plain": [
              "0.8727112287668211"
            ]
          },
          "metadata": {},
          "execution_count": 23
        }
      ]
    },
    {
      "cell_type": "markdown",
      "source": [
        "**Grid Search on Best Model**"
      ],
      "metadata": {
        "id": "RIJybGPU0TVj"
      }
    },
    {
      "cell_type": "code",
      "source": [
        "#setting grid of selected parameters for iteration\n",
        "param_grid = {\n",
        "        'min_child_weight': [1, 5, 10],\n",
        "        'gamma': [0.5, 1, 1.5, 2, 5],\n",
        "        'subsample': [0.6, 0.8, 1.0],\n",
        "        'colsample_bytree': [0.6, 0.8, 1.0],\n",
        "        'max_depth': [3, 4, 5, 10, 15],\n",
        "        'n_estimators': [100,300,500,800,1000],\n",
        "        'learning_rate': [0.01, 0.06, 0.1, 0.5,],\n",
        "        }"
      ],
      "metadata": {
        "id": "sqQsXbz90tXy"
      },
      "execution_count": null,
      "outputs": []
    },
    {
      "cell_type": "code",
      "source": [
        "# Initialize Grid Search Model\n",
        "xgb_base = xgb.XGBClassifier()\n",
        "xgb_grid_model = GridSearchCV(estimator=xgb_base, param_grid=param_grid, scoring='accuracy',\n",
        "                                 verbose=10, n_jobs=-1, cv=2)\n",
        "\n",
        "xgb_grid_model = RandomizedSearchCV(estimator=xgb_base, param_distributions=param_grid, scoring='accuracy',\n",
        "                                 verbose=10, n_jobs=-1, cv=2)\n",
        "\n",
        "# Fit Grid Search Model\n",
        "xgb_grid_model.fit(X_train_tf, y_train)\n",
        "print(\"Best score: %0.3f\" % xgb_grid_model.best_score_)\n",
        "print(\"Best parameters set:\")\n",
        "best_parameters = xgb_grid_model.best_estimator_.get_params()\n",
        "for param_name in sorted(param_grid.keys()):\n",
        "    print(\"\\t%s: %r\" % (param_name, best_parameters[param_name]))\n",
        "\n",
        "best_xgb_model = xgb_grid_model.best_estimator_"
      ],
      "metadata": {
        "id": "eQIJ3TH_0kzO",
        "colab": {
          "base_uri": "https://localhost:8080/"
        },
        "outputId": "b8524365-84b2-4e2c-aa6c-b99925e01b35"
      },
      "execution_count": null,
      "outputs": [
        {
          "output_type": "stream",
          "name": "stdout",
          "text": [
            "Fitting 2 folds for each of 10 candidates, totalling 20 fits\n",
            "Best score: 0.887\n",
            "Best parameters set:\n",
            "\tcolsample_bytree: 1.0\n",
            "\tgamma: 1\n",
            "\tlearning_rate: 0.06\n",
            "\tmax_depth: 15\n",
            "\tmin_child_weight: 5\n",
            "\tn_estimators: 500\n",
            "\tsubsample: 1.0\n"
          ]
        }
      ]
    },
    {
      "cell_type": "markdown",
      "source": [
        "**Retrain Best Model and save**"
      ],
      "metadata": {
        "id": "oed05I57Wsq4"
      }
    },
    {
      "cell_type": "code",
      "source": [
        "best_xgb_model = xgb.XGBClassifier(colsample_bytree=0.6,gamma=0.5,learning_rate=0.06,max_depth=10,min_child_weight=1,n_estimators=800,subsample=0.8)\n",
        "best_xgb_model.fit(X_train_tf, y_train)"
      ],
      "metadata": {
        "id": "SIYkI5Sp6DXa",
        "colab": {
          "base_uri": "https://localhost:8080/"
        },
        "outputId": "b54d582e-bb73-4f16-9b41-946abdadff0b"
      },
      "execution_count": null,
      "outputs": [
        {
          "output_type": "execute_result",
          "data": {
            "text/plain": [
              "XGBClassifier(colsample_bytree=0.6, gamma=0.5, learning_rate=0.06, max_depth=10,\n",
              "              n_estimators=800, subsample=0.8)"
            ]
          },
          "metadata": {},
          "execution_count": 26
        }
      ]
    },
    {
      "cell_type": "code",
      "source": [
        "predictions = best_xgb_model.predict(X_val_tf)\n",
        "confusion_matrix(y_val,predictions)"
      ],
      "metadata": {
        "id": "dMtV6tqf2Ltk",
        "colab": {
          "base_uri": "https://localhost:8080/"
        },
        "outputId": "f17e252f-0bb8-4a4f-90df-baf21ecd828b"
      },
      "execution_count": null,
      "outputs": [
        {
          "output_type": "execute_result",
          "data": {
            "text/plain": [
              "array([[2418,  158],\n",
              "       [ 347, 2077]])"
            ]
          },
          "metadata": {},
          "execution_count": 27
        }
      ]
    },
    {
      "cell_type": "code",
      "source": [
        "f1_score(y_val,predictions)"
      ],
      "metadata": {
        "id": "QQlJthqk2Q3k",
        "colab": {
          "base_uri": "https://localhost:8080/"
        },
        "outputId": "34ffb1a0-312a-4e62-8912-a1f3b44ee560"
      },
      "execution_count": null,
      "outputs": [
        {
          "output_type": "execute_result",
          "data": {
            "text/plain": [
              "0.8916076411247048"
            ]
          },
          "metadata": {},
          "execution_count": 28
        }
      ]
    },
    {
      "cell_type": "code",
      "source": [
        "from google.colab import drive\n",
        "drive.mount('/content/drive')"
      ],
      "metadata": {
        "id": "SSc88Q7h2S3f",
        "colab": {
          "base_uri": "https://localhost:8080/"
        },
        "outputId": "d6a82580-31ed-4496-da86-7508d0689b75"
      },
      "execution_count": null,
      "outputs": [
        {
          "output_type": "stream",
          "name": "stdout",
          "text": [
            "Mounted at /content/drive\n"
          ]
        }
      ]
    },
    {
      "cell_type": "code",
      "source": [
        "cd drive/MyDrive/MSc\\ Data\\ Science/MSc\\ Project/models"
      ],
      "metadata": {
        "id": "P73EuUaa2cJg",
        "colab": {
          "base_uri": "https://localhost:8080/"
        },
        "outputId": "c0689a70-7de4-4fba-d722-6720d8935f0a"
      },
      "execution_count": null,
      "outputs": [
        {
          "output_type": "stream",
          "name": "stdout",
          "text": [
            "/content/drive/MyDrive/MSc Data Science/MSc Project/models\n"
          ]
        }
      ]
    },
    {
      "cell_type": "code",
      "source": [
        "import pickle\n",
        "file_name = \"mixed_best_xgb.pkl\"\n",
        "\n",
        "# save\n",
        "pickle.dump(best_xgb_model, open(file_name, \"wb\"))"
      ],
      "metadata": {
        "id": "k-5YWtb222La"
      },
      "execution_count": null,
      "outputs": []
    },
    {
      "cell_type": "code",
      "source": [
        "ls"
      ],
      "metadata": {
        "id": "K--COE_lSX83",
        "colab": {
          "base_uri": "https://localhost:8080/"
        },
        "outputId": "fb261861-4142-4908-a481-ba6c19a23544"
      },
      "execution_count": null,
      "outputs": [
        {
          "output_type": "stream",
          "name": "stdout",
          "text": [
            "best_xgb.pkl    \u001b[0m\u001b[01;34mdistilbert--without-stem-94\u001b[0m/  \u001b[01;34mroberta\u001b[0m/\n",
            "\u001b[01;34mdistilbert-94\u001b[0m/  mixed_best_xgb.pkl\n"
          ]
        }
      ]
    },
    {
      "cell_type": "code",
      "source": [
        ""
      ],
      "metadata": {
        "id": "qkRMD7Y7mALr"
      },
      "execution_count": null,
      "outputs": []
    }
  ]
}