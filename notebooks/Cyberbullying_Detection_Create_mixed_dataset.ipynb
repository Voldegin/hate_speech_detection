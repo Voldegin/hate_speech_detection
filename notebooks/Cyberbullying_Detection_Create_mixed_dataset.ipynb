{
  "nbformat": 4,
  "nbformat_minor": 0,
  "metadata": {
    "colab": {
      "name": "Cyberbullying Detection Create mixed dataset.ipynb",
      "provenance": [],
      "collapsed_sections": []
    },
    "kernelspec": {
      "name": "python3",
      "display_name": "Python 3"
    },
    "language_info": {
      "name": "python"
    }
  },
  "cells": [
    {
      "cell_type": "code",
      "source": [
        "local_run = False\n",
        "store_local = False\n",
        "local_path = \"/Users/algin/Greenwich/MSc Project/project_code/hate_speech_detection/data/mixed/\""
      ],
      "metadata": {
        "id": "66eWirhcN6lU"
      },
      "execution_count": null,
      "outputs": []
    },
    {
      "cell_type": "code",
      "source": [
        "try:\n",
        "    import emoji\n",
        "except ImportError:\n",
        "    !pip install emoji\n",
        "    import emoji"
      ],
      "metadata": {
        "id": "nPNdmsNmN_hl"
      },
      "execution_count": null,
      "outputs": []
    },
    {
      "cell_type": "code",
      "execution_count": null,
      "metadata": {
        "id": "wCsorQaihYir",
        "colab": {
          "base_uri": "https://localhost:8080/"
        },
        "outputId": "47ac9489-6f7b-4048-c276-c95772fdcfef"
      },
      "outputs": [
        {
          "output_type": "stream",
          "name": "stderr",
          "text": [
            "[nltk_data] Downloading package stopwords to /Users/algin/nltk_data...\n",
            "[nltk_data]   Unzipping corpora/stopwords.zip.\n",
            "[nltk_data] Downloading package punkt to /Users/algin/nltk_data...\n",
            "[nltk_data]   Unzipping tokenizers/punkt.zip.\n"
          ]
        }
      ],
      "source": [
        "import pandas as pd\n",
        "import numpy as np\n",
        "import random\n",
        "import string\n",
        "import re\n",
        "\n",
        "import nltk\n",
        "from nltk.corpus import stopwords\n",
        "from nltk.stem import PorterStemmer\n",
        "\n",
        "if local_run:\n",
        "    nltk.data.path.append('/Users/algin/VOLD/nltk_data')\n",
        "    nltk.download('stopwords',download_dir='/Users/algin/VOLD/nltk_data')\n",
        "    nltk.download('punkt',download_dir='/Users/algin/VOLD/nltk_data')\n",
        "else:\n",
        "    nltk.download('stopwords')\n",
        "    nltk.download('punkt')\n",
        "stop_words = set(stopwords.words('english'))\n"
      ]
    },
    {
      "cell_type": "code",
      "source": [
        "train_data = pd.read_csv(\"https://github.com/Voldegin/hate_speech_detection/blob/3-model-experiments/data/cleaned/cleaned_train_data.csv?raw=true\")\n",
        "test_data = pd.read_csv(\"https://github.com/Voldegin/hate_speech_detection/blob/3-model-experiments/data/cleaned/cleaned_test_data.csv?raw=true\")"
      ],
      "metadata": {
        "id": "ix2t5WXPhekH"
      },
      "execution_count": null,
      "outputs": []
    },
    {
      "cell_type": "code",
      "source": [
        "train_data.head()"
      ],
      "metadata": {
        "colab": {
          "base_uri": "https://localhost:8080/",
          "height": 206
        },
        "id": "fUbNYNeShprL",
        "outputId": "4b8f4a55-905a-47ae-fd35-cf790e3af833"
      },
      "execution_count": null,
      "outputs": [
        {
          "output_type": "execute_result",
          "data": {
            "text/plain": [
              "                                          tweet_text cyberbullying_type  \\\n",
              "0  In other words #katandandre, your food was cra...  not_cyberbullying   \n",
              "1  Why is #aussietv so white? #MKR #theblock #ImA...  not_cyberbullying   \n",
              "2  @XochitlSuckkks a classy whore? Or more red ve...  not_cyberbullying   \n",
              "3  @Jason_Gio meh. :P  thanks for the heads up, b...  not_cyberbullying   \n",
              "4  @RudhoeEnglish This is an ISIS account pretend...  not_cyberbullying   \n",
              "\n",
              "   is_cyberbullying                                            cleaned  \n",
              "0                 0                     word katandandr food crapilici  \n",
              "1                 0                                     aussietv white  \n",
              "2                 0                     classi whore red velvet cupcak  \n",
              "3                 0  meh p thank head up concern anoth angri dude t...  \n",
              "4                 0  isi account pretend kurdish account like islam...  "
            ],
            "text/html": [
              "<div>\n",
              "<style scoped>\n",
              "    .dataframe tbody tr th:only-of-type {\n",
              "        vertical-align: middle;\n",
              "    }\n",
              "\n",
              "    .dataframe tbody tr th {\n",
              "        vertical-align: top;\n",
              "    }\n",
              "\n",
              "    .dataframe thead th {\n",
              "        text-align: right;\n",
              "    }\n",
              "</style>\n",
              "<table border=\"1\" class=\"dataframe\">\n",
              "  <thead>\n",
              "    <tr style=\"text-align: right;\">\n",
              "      <th></th>\n",
              "      <th>tweet_text</th>\n",
              "      <th>cyberbullying_type</th>\n",
              "      <th>is_cyberbullying</th>\n",
              "      <th>cleaned</th>\n",
              "    </tr>\n",
              "  </thead>\n",
              "  <tbody>\n",
              "    <tr>\n",
              "      <th>0</th>\n",
              "      <td>In other words #katandandre, your food was cra...</td>\n",
              "      <td>not_cyberbullying</td>\n",
              "      <td>0</td>\n",
              "      <td>word katandandr food crapilici</td>\n",
              "    </tr>\n",
              "    <tr>\n",
              "      <th>1</th>\n",
              "      <td>Why is #aussietv so white? #MKR #theblock #ImA...</td>\n",
              "      <td>not_cyberbullying</td>\n",
              "      <td>0</td>\n",
              "      <td>aussietv white</td>\n",
              "    </tr>\n",
              "    <tr>\n",
              "      <th>2</th>\n",
              "      <td>@XochitlSuckkks a classy whore? Or more red ve...</td>\n",
              "      <td>not_cyberbullying</td>\n",
              "      <td>0</td>\n",
              "      <td>classi whore red velvet cupcak</td>\n",
              "    </tr>\n",
              "    <tr>\n",
              "      <th>3</th>\n",
              "      <td>@Jason_Gio meh. :P  thanks for the heads up, b...</td>\n",
              "      <td>not_cyberbullying</td>\n",
              "      <td>0</td>\n",
              "      <td>meh p thank head up concern anoth angri dude t...</td>\n",
              "    </tr>\n",
              "    <tr>\n",
              "      <th>4</th>\n",
              "      <td>@RudhoeEnglish This is an ISIS account pretend...</td>\n",
              "      <td>not_cyberbullying</td>\n",
              "      <td>0</td>\n",
              "      <td>isi account pretend kurdish account like islam...</td>\n",
              "    </tr>\n",
              "  </tbody>\n",
              "</table>\n",
              "</div>"
            ]
          },
          "metadata": {},
          "execution_count": 24
        }
      ]
    },
    {
      "cell_type": "code",
      "source": [
        "test_data.head()"
      ],
      "metadata": {
        "colab": {
          "base_uri": "https://localhost:8080/",
          "height": 206
        },
        "id": "bOHqJ1E_hsV9",
        "outputId": "8780d4d9-d2b1-4cdd-a5b9-ebbf11662c0f"
      },
      "execution_count": null,
      "outputs": [
        {
          "output_type": "execute_result",
          "data": {
            "text/plain": [
              "                                          tweet_text actual_value  \\\n",
              "0  \"\\n\\nI decided on \"\"breached\"\" as a term to de...           []   \n",
              "1  Support Adding information regarding the 2007 ...           []   \n",
              "2  Stick to topic \\n\\nI would suggest cleaning up...           []   \n",
              "3  20 moments where e.g. or i.e. is used in an ar...           []   \n",
              "4  \"\\n\\n ADHD \\n\\nIt was a fight there for a whil...           []   \n",
              "\n",
              "   is_cyberbullying                                            cleaned  \n",
              "0                 0                decid breach term describ damag dam  \n",
              "1                 0  support ad inform regard 2007 easter denial se...  \n",
              "2                 0  stick topic would suggest clean articl contain...  \n",
              "3                 0  20 moment eg ie use articl print 40 page exces...  \n",
              "4                 0  adhd fight while thank scuro left seen month l...  "
            ],
            "text/html": [
              "<div>\n",
              "<style scoped>\n",
              "    .dataframe tbody tr th:only-of-type {\n",
              "        vertical-align: middle;\n",
              "    }\n",
              "\n",
              "    .dataframe tbody tr th {\n",
              "        vertical-align: top;\n",
              "    }\n",
              "\n",
              "    .dataframe thead th {\n",
              "        text-align: right;\n",
              "    }\n",
              "</style>\n",
              "<table border=\"1\" class=\"dataframe\">\n",
              "  <thead>\n",
              "    <tr style=\"text-align: right;\">\n",
              "      <th></th>\n",
              "      <th>tweet_text</th>\n",
              "      <th>actual_value</th>\n",
              "      <th>is_cyberbullying</th>\n",
              "      <th>cleaned</th>\n",
              "    </tr>\n",
              "  </thead>\n",
              "  <tbody>\n",
              "    <tr>\n",
              "      <th>0</th>\n",
              "      <td>\"\\n\\nI decided on \"\"breached\"\" as a term to de...</td>\n",
              "      <td>[]</td>\n",
              "      <td>0</td>\n",
              "      <td>decid breach term describ damag dam</td>\n",
              "    </tr>\n",
              "    <tr>\n",
              "      <th>1</th>\n",
              "      <td>Support Adding information regarding the 2007 ...</td>\n",
              "      <td>[]</td>\n",
              "      <td>0</td>\n",
              "      <td>support ad inform regard 2007 easter denial se...</td>\n",
              "    </tr>\n",
              "    <tr>\n",
              "      <th>2</th>\n",
              "      <td>Stick to topic \\n\\nI would suggest cleaning up...</td>\n",
              "      <td>[]</td>\n",
              "      <td>0</td>\n",
              "      <td>stick topic would suggest clean articl contain...</td>\n",
              "    </tr>\n",
              "    <tr>\n",
              "      <th>3</th>\n",
              "      <td>20 moments where e.g. or i.e. is used in an ar...</td>\n",
              "      <td>[]</td>\n",
              "      <td>0</td>\n",
              "      <td>20 moment eg ie use articl print 40 page exces...</td>\n",
              "    </tr>\n",
              "    <tr>\n",
              "      <th>4</th>\n",
              "      <td>\"\\n\\n ADHD \\n\\nIt was a fight there for a whil...</td>\n",
              "      <td>[]</td>\n",
              "      <td>0</td>\n",
              "      <td>adhd fight while thank scuro left seen month l...</td>\n",
              "    </tr>\n",
              "  </tbody>\n",
              "</table>\n",
              "</div>"
            ]
          },
          "metadata": {},
          "execution_count": 25
        }
      ]
    },
    {
      "cell_type": "code",
      "source": [
        "train_data['length'] = train_data['tweet_text'].str.len()\n",
        "test_data['length'] = test_data['tweet_text'].str.len()\n",
        "\n",
        "train_data['word_count'] = train_data['tweet_text'].str.split().str.len()\n",
        "test_data['word_count'] = test_data['tweet_text'].str.split().str.len()"
      ],
      "metadata": {
        "id": "BZ4YENcohtrd"
      },
      "execution_count": null,
      "outputs": []
    },
    {
      "cell_type": "code",
      "source": [
        "train_data['word_count'].mean(), test_data['word_count'].mean()"
      ],
      "metadata": {
        "colab": {
          "base_uri": "https://localhost:8080/"
        },
        "id": "5gDL91mih48v",
        "outputId": "4f199620-795d-4238-ac16-787bba8b0685"
      },
      "execution_count": null,
      "outputs": [
        {
          "output_type": "execute_result",
          "data": {
            "text/plain": [
              "(26.07198050165388, 65.58979124964254)"
            ]
          },
          "metadata": {},
          "execution_count": 27
        }
      ]
    },
    {
      "cell_type": "code",
      "source": [
        "train_data['length'].mean(), test_data['length'].mean()"
      ],
      "metadata": {
        "colab": {
          "base_uri": "https://localhost:8080/"
        },
        "id": "uw_R5CvsiHA-",
        "outputId": "2a410c23-79fd-41cf-b362-d12ae825d899"
      },
      "execution_count": null,
      "outputs": [
        {
          "output_type": "execute_result",
          "data": {
            "text/plain": [
              "(149.36787058240597, 383.1627108950529)"
            ]
          },
          "metadata": {},
          "execution_count": 28
        }
      ]
    },
    {
      "cell_type": "code",
      "source": [
        "train_data['length'].max(), test_data['length'].max()"
      ],
      "metadata": {
        "colab": {
          "base_uri": "https://localhost:8080/"
        },
        "id": "dEPU8FB4iXKo",
        "outputId": "2cfbe3c5-2993-41a6-e814-f5eb685a0b39"
      },
      "execution_count": null,
      "outputs": [
        {
          "output_type": "execute_result",
          "data": {
            "text/plain": [
              "(4962, 5000)"
            ]
          },
          "metadata": {},
          "execution_count": 29
        }
      ]
    },
    {
      "cell_type": "code",
      "source": [
        "train_data['word_count'].max(), test_data['word_count'].max()"
      ],
      "metadata": {
        "id": "aVqplvqGnxpj",
        "outputId": "4a11112b-b44b-4ded-d122-868753027bd5",
        "colab": {
          "base_uri": "https://localhost:8080/"
        }
      },
      "execution_count": null,
      "outputs": [
        {
          "output_type": "execute_result",
          "data": {
            "text/plain": [
              "(790, 1403)"
            ]
          },
          "metadata": {},
          "execution_count": 30
        }
      ]
    },
    {
      "cell_type": "code",
      "source": [
        "pred_issue_values = [['malignant'],['rude'],['abuse'],['malignant', 'rude', 'abuse'],['malignant', 'rude'],['malignant', 'abuse'],['rude', 'abuse'],\n",
        "                     ['malignant', 'highly_malignant', 'rude', 'abuse'],['malignant', 'rude', 'abuse', 'loathe'],['malignant', 'threat'],\n",
        "                     ['malignant', 'loathe'],['malignant', 'abuse', 'loathe'] ]"
      ],
      "metadata": {
        "id": "lKch-j0yn0wv"
      },
      "execution_count": null,
      "outputs": []
    },
    {
      "cell_type": "markdown",
      "source": [
        "**Create mixed datatset**"
      ],
      "metadata": {
        "id": "H24gnGYgCyPK"
      }
    },
    {
      "cell_type": "code",
      "source": [
        "malignant_raw_data = pd.read_csv(\"https://github.com/Voldegin/hate_speech_detection/blob/develop/data/raw/malignant_comments/train.csv?raw=true\")\n",
        "unbalanced_train_data = pd.read_csv(\"https://github.com/Voldegin/hate_speech_detection/blob/develop/data/unbalanced/unbalanced_train_data.csv?raw=true\")"
      ],
      "metadata": {
        "id": "dM35EweD2ilQ"
      },
      "execution_count": null,
      "outputs": []
    },
    {
      "cell_type": "code",
      "source": [
        "len(malignant_raw_data)"
      ],
      "metadata": {
        "colab": {
          "base_uri": "https://localhost:8080/"
        },
        "id": "ImBF3ZMUCEzR",
        "outputId": "a7a71e24-75c5-4a84-9249-a9aaa50bf960"
      },
      "execution_count": null,
      "outputs": [
        {
          "output_type": "execute_result",
          "data": {
            "text/plain": [
              "159571"
            ]
          },
          "metadata": {},
          "execution_count": 40
        }
      ]
    },
    {
      "cell_type": "code",
      "source": [
        "len(unbalanced_train_data)"
      ],
      "metadata": {
        "colab": {
          "base_uri": "https://localhost:8080/"
        },
        "id": "U6d04crjCouK",
        "outputId": "f72867a1-075e-45cb-9659-369b29ee1b45"
      },
      "execution_count": null,
      "outputs": [
        {
          "output_type": "execute_result",
          "data": {
            "text/plain": [
              "47692"
            ]
          },
          "metadata": {},
          "execution_count": 110
        }
      ]
    },
    {
      "cell_type": "code",
      "source": [
        "# Function to convert malignant data into a format to create new column 'is_cyberbullying'\n",
        "def convert_malignant_tweets_format(data):\n",
        "    new_data = pd.DataFrame()\n",
        "    new_data['tweet_text'] = data['comment_text']\n",
        "    new_data['actual_value'] = data.apply(lambda row: row[row == 1].index.tolist(), axis=1)\n",
        "    new_data['is_cyberbullying'] = np.where(new_data['actual_value'].apply(lambda x:len(x)) == 0,0,1)\n",
        "    return new_data"
      ],
      "metadata": {
        "id": "SEe7gOzMC2Wx"
      },
      "execution_count": null,
      "outputs": []
    },
    {
      "cell_type": "code",
      "source": [
        "malignant_data = convert_malignant_tweets_format(malignant_raw_data)"
      ],
      "metadata": {
        "id": "Ca9aSSR-C9Q6"
      },
      "execution_count": null,
      "outputs": []
    },
    {
      "cell_type": "code",
      "source": [
        "len(malignant_data)"
      ],
      "metadata": {
        "colab": {
          "base_uri": "https://localhost:8080/"
        },
        "id": "MsV3AJk5C_vL",
        "outputId": "93f6756c-060f-460e-8c92-e3c16bc08f78"
      },
      "execution_count": null,
      "outputs": [
        {
          "output_type": "execute_result",
          "data": {
            "text/plain": [
              "159571"
            ]
          },
          "metadata": {},
          "execution_count": 75
        }
      ]
    },
    {
      "cell_type": "code",
      "source": [
        "unbalanced_train_data['is_cyberbullying'].value_counts()"
      ],
      "metadata": {
        "colab": {
          "base_uri": "https://localhost:8080/"
        },
        "id": "EN85iiuVGGvv",
        "outputId": "abcb17af-6f5f-4936-eddf-23afa614f52e"
      },
      "execution_count": null,
      "outputs": [
        {
          "output_type": "execute_result",
          "data": {
            "text/plain": [
              "1    39747\n",
              "0     7945\n",
              "Name: is_cyberbullying, dtype: int64"
            ]
          },
          "metadata": {},
          "execution_count": 111
        }
      ]
    },
    {
      "cell_type": "code",
      "source": [
        "malignant_data['is_cyberbullying'].value_counts()"
      ],
      "metadata": {
        "colab": {
          "base_uri": "https://localhost:8080/"
        },
        "id": "23_CI-QsFz6M",
        "outputId": "65adfeb3-2b5f-40c3-f558-92129bfddc23"
      },
      "execution_count": null,
      "outputs": [
        {
          "output_type": "execute_result",
          "data": {
            "text/plain": [
              "0    143346\n",
              "1     16225\n",
              "Name: is_cyberbullying, dtype: int64"
            ]
          },
          "metadata": {},
          "execution_count": 95
        }
      ]
    },
    {
      "cell_type": "markdown",
      "source": [
        "**All bullying tweets can be added along with non bullying tweets**"
      ],
      "metadata": {
        "id": "mgWukv_OGJeU"
      }
    },
    {
      "cell_type": "code",
      "source": [
        "malignant_data['tweet_length'] = malignant_data['tweet_text'].str.len()\n",
        "malignant_400_subset = malignant_data[malignant_data['tweet_length'] < 400]"
      ],
      "metadata": {
        "id": "Q-OLNrQNGcvF"
      },
      "execution_count": null,
      "outputs": []
    },
    {
      "cell_type": "code",
      "source": [
        "malignant_400_subset['is_cyberbullying'].value_counts()"
      ],
      "metadata": {
        "colab": {
          "base_uri": "https://localhost:8080/"
        },
        "id": "GGP_FyW3IvsX",
        "outputId": "56eb83a6-7559-484d-b56d-d137054789fa"
      },
      "execution_count": null,
      "outputs": [
        {
          "output_type": "execute_result",
          "data": {
            "text/plain": [
              "0    102298\n",
              "1     13488\n",
              "Name: is_cyberbullying, dtype: int64"
            ]
          },
          "metadata": {},
          "execution_count": 143
        }
      ]
    },
    {
      "cell_type": "code",
      "source": [
        "malignant_bullying_400_subset = malignant_400_subset[malignant_400_subset['is_cyberbullying']==1]\n",
        "malignant_not_bullying_400_subset = malignant_400_subset[malignant_400_subset['is_cyberbullying']==0]"
      ],
      "metadata": {
        "id": "lKzQIGMJI5Yv"
      },
      "execution_count": null,
      "outputs": []
    },
    {
      "cell_type": "code",
      "source": [
        "columns = ['tweet_text','is_cyberbullying']\n",
        "new_train_data = pd.concat([malignant_bullying_400_subset[columns],unbalanced_train_data[columns]])\n",
        "new_train_data['is_cyberbullying'].value_counts()"
      ],
      "metadata": {
        "colab": {
          "base_uri": "https://localhost:8080/"
        },
        "id": "qrYvUl5PIwcu",
        "outputId": "fb67cae3-a14f-4297-8e56-cfda2bf8627f"
      },
      "execution_count": null,
      "outputs": [
        {
          "output_type": "execute_result",
          "data": {
            "text/plain": [
              "1    53235\n",
              "0     7945\n",
              "Name: is_cyberbullying, dtype: int64"
            ]
          },
          "metadata": {},
          "execution_count": 154
        }
      ]
    },
    {
      "cell_type": "markdown",
      "source": [
        "**Add 45K non bullying tweets to balance the train data**"
      ],
      "metadata": {
        "id": "0h9TU5lpI3gs"
      }
    },
    {
      "cell_type": "code",
      "source": [
        "additional_train_data_index = malignant_not_bullying_400_subset.sample(n=45000, random_state=23).index\n",
        "transfer_malignant_data = malignant_not_bullying_400_subset.loc[additional_train_data_index]"
      ],
      "metadata": {
        "id": "2C9JIc9GJd19"
      },
      "execution_count": null,
      "outputs": []
    },
    {
      "cell_type": "code",
      "source": [
        "mixed_full_data = pd.concat([new_train_data[columns],transfer_malignant_data[columns]])"
      ],
      "metadata": {
        "id": "X3YJkks4Lb08"
      },
      "execution_count": null,
      "outputs": []
    },
    {
      "cell_type": "code",
      "source": [
        "mixed_full_data['is_cyberbullying'].value_counts()"
      ],
      "metadata": {
        "colab": {
          "base_uri": "https://localhost:8080/"
        },
        "id": "wzyv9W49MCd-",
        "outputId": "135e8f5c-b07a-4128-d3dd-2649ecdf3c69"
      },
      "execution_count": null,
      "outputs": [
        {
          "output_type": "execute_result",
          "data": {
            "text/plain": [
              "1    53235\n",
              "0    52945\n",
              "Name: is_cyberbullying, dtype: int64"
            ]
          },
          "metadata": {},
          "execution_count": 157
        }
      ]
    },
    {
      "cell_type": "code",
      "source": [
        "new_train_data['is_cyberbullying'].value_counts()"
      ],
      "metadata": {
        "colab": {
          "base_uri": "https://localhost:8080/"
        },
        "id": "Rem8tbrHLgDi",
        "outputId": "a97e0d44-4c1a-4301-fea9-f30af5a72a57"
      },
      "execution_count": null,
      "outputs": [
        {
          "output_type": "execute_result",
          "data": {
            "text/plain": [
              "1    53235\n",
              "0     7945\n",
              "Name: is_cyberbullying, dtype: int64"
            ]
          },
          "metadata": {},
          "execution_count": 158
        }
      ]
    },
    {
      "cell_type": "code",
      "source": [
        "def get_emoji_regexp():\n",
        "    # Sort emoji by length to make sure multi-character emojis are\n",
        "    # matched first\n",
        "    emojis = sorted(emoji.EMOJI_DATA, key=len, reverse=True)\n",
        "    pattern = u'(' + u'|'.join(re.escape(u) for u in emojis) + u')'\n",
        "    return re.compile(pattern)"
      ],
      "metadata": {
        "id": "Joh6WALMcTvw"
      },
      "execution_count": null,
      "outputs": []
    },
    {
      "cell_type": "code",
      "source": [
        "banned_list= string.punctuation\n",
        "punctuation_reg_exp = \"[\" + banned_list + \"]\"\n",
        "emoji_reg_exp = get_emoji_regexp()\n",
        "\n",
        "def stemmer(text):\n",
        "    tokenized = nltk.word_tokenize(text)\n",
        "    ps = PorterStemmer()\n",
        "    return ' '.join([ps.stem(words) for words in tokenized])\n",
        "\n",
        "def clean_text(text):\n",
        "    text = text.replace('\\r', '').replace('\\n', ' ').lower()\n",
        "    text = re.sub(r\"(?:\\@|https?\\://)\\S+\", \"\", text)\n",
        "\n",
        "    text = [word for word in text.split() if word not in stop_words]\n",
        "    text = ' '.join(text)\n",
        "\n",
        "    text = \" \".join(word.strip() for word in re.split('#(?!(?:hashtag)\\b)[\\w-]+(?=(?:\\s+#[\\w-]+)*\\s*$)', text))\n",
        "    \n",
        "    text = re.sub(punctuation_reg_exp,\"\",text)\n",
        "\n",
        "    text = re.sub(\"\\s\\s+\" , \" \", text)\n",
        "\n",
        "    text = re.sub(emoji_reg_exp, r\"\", text)\n",
        "\n",
        "    text = stemmer(text)\n",
        "    return text"
      ],
      "metadata": {
        "id": "cXrlbCfDKBTI"
      },
      "execution_count": null,
      "outputs": []
    },
    {
      "cell_type": "code",
      "source": [
        "mixed_full_data['cleaned'] = mixed_full_data['tweet_text'].apply(clean_text)"
      ],
      "metadata": {
        "id": "luiYOjvmNpVc"
      },
      "execution_count": null,
      "outputs": []
    },
    {
      "cell_type": "code",
      "source": [
        "mixed_full_data['cleaned'].duplicated().sum()"
      ],
      "metadata": {
        "colab": {
          "base_uri": "https://localhost:8080/"
        },
        "id": "a-IJOERrNuVT",
        "outputId": "2eb6dd9f-ce35-4f10-a44d-1fc6c13b5a25"
      },
      "execution_count": null,
      "outputs": [
        {
          "output_type": "execute_result",
          "data": {
            "text/plain": [
              "3220"
            ]
          },
          "metadata": {},
          "execution_count": 177
        }
      ]
    },
    {
      "cell_type": "code",
      "source": [
        "cleaned_full_data = mixed_full_data.drop_duplicates(\"cleaned\")\n",
        "cleaned_full_data = cleaned_full_data[cleaned_full_data['cleaned']!='']"
      ],
      "metadata": {
        "id": "yJOWVBmUNx3N"
      },
      "execution_count": null,
      "outputs": []
    },
    {
      "cell_type": "code",
      "source": [
        "cleaned_full_data['cleaned'].duplicated().sum()"
      ],
      "metadata": {
        "colab": {
          "base_uri": "https://localhost:8080/"
        },
        "id": "ql6K7KD8N0iJ",
        "outputId": "463ee5a7-b5e1-405e-9710-b4e9f321df86"
      },
      "execution_count": null,
      "outputs": [
        {
          "output_type": "execute_result",
          "data": {
            "text/plain": [
              "0"
            ]
          },
          "metadata": {},
          "execution_count": 181
        }
      ]
    },
    {
      "cell_type": "markdown",
      "source": [
        "**Create test dataset**"
      ],
      "metadata": {
        "id": "0GPUM2ouNp9X"
      }
    },
    {
      "cell_type": "code",
      "source": [
        "def create_test_data(data, size=4000):\n",
        "    not_malignant_tweets = data[data['is_cyberbullying'] == 0]\n",
        "    malignant_tweets = data[data['is_cyberbullying'] == 1]\n",
        "    not_malignant_subset = not_malignant_tweets.sample(n=size//2, random_state=23)\n",
        "    malignant_subset = malignant_tweets.sample(n=size//2, random_state=23)\n",
        "    test_data = pd.concat([not_malignant_subset,malignant_subset])\n",
        "    return test_data"
      ],
      "metadata": {
        "id": "6ePhameBLrfp"
      },
      "execution_count": null,
      "outputs": []
    },
    {
      "cell_type": "code",
      "source": [
        "mixed_test_data = create_test_data(cleaned_full_data, 10000)"
      ],
      "metadata": {
        "id": "o3DJ7govLSFt"
      },
      "execution_count": null,
      "outputs": []
    },
    {
      "cell_type": "code",
      "source": [
        "mixed_train_data = cleaned_full_data.drop(mixed_test_data.index,axis=0)"
      ],
      "metadata": {
        "id": "0RRHKGK9MLqp"
      },
      "execution_count": null,
      "outputs": []
    },
    {
      "cell_type": "code",
      "source": [
        "mixed_test_data['is_cyberbullying'].value_counts()"
      ],
      "metadata": {
        "colab": {
          "base_uri": "https://localhost:8080/"
        },
        "id": "iTZJeBzsObVz",
        "outputId": "a01bb896-ea0b-4da8-b0af-3d5c823b52d7"
      },
      "execution_count": null,
      "outputs": [
        {
          "output_type": "execute_result",
          "data": {
            "text/plain": [
              "0    5000\n",
              "1    5000\n",
              "Name: is_cyberbullying, dtype: int64"
            ]
          },
          "metadata": {},
          "execution_count": 186
        }
      ]
    },
    {
      "cell_type": "code",
      "source": [
        "mixed_train_data['is_cyberbullying'].value_counts()"
      ],
      "metadata": {
        "colab": {
          "base_uri": "https://localhost:8080/"
        },
        "id": "QRycCvObMfhS",
        "outputId": "263fece1-f927-49b2-a03c-de8fbcc4429b"
      },
      "execution_count": null,
      "outputs": [
        {
          "output_type": "execute_result",
          "data": {
            "text/plain": [
              "0    46111\n",
              "1    43868\n",
              "Name: is_cyberbullying, dtype: int64"
            ]
          },
          "metadata": {},
          "execution_count": 185
        }
      ]
    },
    {
      "cell_type": "code",
      "source": [
        "if store_local:\n",
        "    mixed_train_data.to_csv(local_path + \"mixed_train_data.csv\",index=False)\n",
        "    mixed_test_data.to_csv(local_path + \"mixed_test_data.csv\",index=False)"
      ],
      "metadata": {
        "id": "-vPHHV6JNWH9"
      },
      "execution_count": null,
      "outputs": []
    },
    {
      "cell_type": "code",
      "source": [
        ""
      ],
      "metadata": {
        "id": "IDd6O9lXOtXi"
      },
      "execution_count": null,
      "outputs": []
    }
  ]
}