{
  "nbformat": 4,
  "nbformat_minor": 0,
  "metadata": {
    "colab": {
      "name": "Cyberbullying Detection Data Split and PreProcessing.ipynb",
      "provenance": [],
      "collapsed_sections": []
    },
    "kernelspec": {
      "name": "python3",
      "display_name": "Python 3"
    },
    "language_info": {
      "name": "python"
    }
  },
  "cells": [
    {
      "cell_type": "markdown",
      "source": [
        "**Import Libraries**"
      ],
      "metadata": {
        "id": "XToVj5QtIXlE"
      }
    },
    {
      "cell_type": "code",
      "source": [
        "try:\n",
        "    import emoji\n",
        "except ImportError:\n",
        "    !pip install emoji\n",
        "    import emoji"
      ],
      "metadata": {
        "id": "eZuz4UPFgXvx"
      },
      "execution_count": 1,
      "outputs": []
    },
    {
      "cell_type": "code",
      "execution_count": 2,
      "metadata": {
        "id": "uES3S4QL5xjz",
        "colab": {
          "base_uri": "https://localhost:8080/"
        },
        "outputId": "7ae4ee24-9d67-469c-829f-e62ad12bf3a7"
      },
      "outputs": [
        {
          "output_type": "stream",
          "name": "stderr",
          "text": [
            "[nltk_data] Downloading package stopwords to\n",
            "[nltk_data]     C:\\Users\\algin\\AppData\\Roaming\\nltk_data...\n",
            "[nltk_data]   Package stopwords is already up-to-date!\n",
            "[nltk_data] Downloading package punkt to\n",
            "[nltk_data]     C:\\Users\\algin\\AppData\\Roaming\\nltk_data...\n",
            "[nltk_data]   Package punkt is already up-to-date!\n"
          ]
        }
      ],
      "source": [
        "import pandas as pd\n",
        "import numpy as np\n",
        "import random\n",
        "import string\n",
        "import re\n",
        "\n",
        "import nltk\n",
        "from nltk.corpus import stopwords\n",
        "from nltk.stem import PorterStemmer\n",
        "nltk.download('stopwords')\n",
        "nltk.download('punkt')\n",
        "stop_words = set(stopwords.words('english'))\n",
        "\n",
        "from sklearn.model_selection import train_test_split"
      ]
    },
    {
      "cell_type": "code",
      "source": [
        "local_path = \"C:\\\\Greenwich\\\\MSc Project\\\\project_code\\\\\"\n",
        "store_local = False"
      ],
      "metadata": {
        "id": "YPmxGT0ePuOG"
      },
      "execution_count": 3,
      "outputs": []
    },
    {
      "cell_type": "markdown",
      "source": [
        "**Load Data**"
      ],
      "metadata": {
        "id": "PyQE3RsKIaWm"
      }
    },
    {
      "cell_type": "code",
      "source": [
        "full_train_data = pd.read_csv(\"https://github.com/Voldegin/hate_speech_detection/blob/1-data-processing-and-eda/data/balanced/balanced_train_data.csv?raw=true\")\n",
        "test_data = pd.read_csv(\"https://github.com/Voldegin/hate_speech_detection/blob/1-data-processing-and-eda/data/balanced/balanced_test_data.csv?raw=true\")"
      ],
      "metadata": {
        "id": "raRzHBiff2nL"
      },
      "execution_count": 4,
      "outputs": []
    },
    {
      "cell_type": "code",
      "source": [
        "full_train_data.head()"
      ],
      "metadata": {
        "colab": {
          "base_uri": "https://localhost:8080/",
          "height": 206
        },
        "id": "_wXocVHk7YKm",
        "outputId": "7ed14025-4244-45f6-d851-f122201bcadf"
      },
      "execution_count": 5,
      "outputs": [
        {
          "output_type": "execute_result",
          "data": {
            "text/plain": [
              "                                          tweet_text cyberbullying_type  \\\n",
              "0  In other words #katandandre, your food was cra...  not_cyberbullying   \n",
              "1  Why is #aussietv so white? #MKR #theblock #ImA...  not_cyberbullying   \n",
              "2  @XochitlSuckkks a classy whore? Or more red ve...  not_cyberbullying   \n",
              "3  @Jason_Gio meh. :P  thanks for the heads up, b...  not_cyberbullying   \n",
              "4  @RudhoeEnglish This is an ISIS account pretend...  not_cyberbullying   \n",
              "\n",
              "   is_cyberbullying  \n",
              "0                 0  \n",
              "1                 0  \n",
              "2                 0  \n",
              "3                 0  \n",
              "4                 0  "
            ],
            "text/html": [
              "<div>\n",
              "<style scoped>\n",
              "    .dataframe tbody tr th:only-of-type {\n",
              "        vertical-align: middle;\n",
              "    }\n",
              "\n",
              "    .dataframe tbody tr th {\n",
              "        vertical-align: top;\n",
              "    }\n",
              "\n",
              "    .dataframe thead th {\n",
              "        text-align: right;\n",
              "    }\n",
              "</style>\n",
              "<table border=\"1\" class=\"dataframe\">\n",
              "  <thead>\n",
              "    <tr style=\"text-align: right;\">\n",
              "      <th></th>\n",
              "      <th>tweet_text</th>\n",
              "      <th>cyberbullying_type</th>\n",
              "      <th>is_cyberbullying</th>\n",
              "    </tr>\n",
              "  </thead>\n",
              "  <tbody>\n",
              "    <tr>\n",
              "      <th>0</th>\n",
              "      <td>In other words #katandandre, your food was cra...</td>\n",
              "      <td>not_cyberbullying</td>\n",
              "      <td>0</td>\n",
              "    </tr>\n",
              "    <tr>\n",
              "      <th>1</th>\n",
              "      <td>Why is #aussietv so white? #MKR #theblock #ImA...</td>\n",
              "      <td>not_cyberbullying</td>\n",
              "      <td>0</td>\n",
              "    </tr>\n",
              "    <tr>\n",
              "      <th>2</th>\n",
              "      <td>@XochitlSuckkks a classy whore? Or more red ve...</td>\n",
              "      <td>not_cyberbullying</td>\n",
              "      <td>0</td>\n",
              "    </tr>\n",
              "    <tr>\n",
              "      <th>3</th>\n",
              "      <td>@Jason_Gio meh. :P  thanks for the heads up, b...</td>\n",
              "      <td>not_cyberbullying</td>\n",
              "      <td>0</td>\n",
              "    </tr>\n",
              "    <tr>\n",
              "      <th>4</th>\n",
              "      <td>@RudhoeEnglish This is an ISIS account pretend...</td>\n",
              "      <td>not_cyberbullying</td>\n",
              "      <td>0</td>\n",
              "    </tr>\n",
              "  </tbody>\n",
              "</table>\n",
              "</div>"
            ]
          },
          "metadata": {},
          "execution_count": 5
        }
      ]
    },
    {
      "cell_type": "code",
      "source": [
        "test_data.head()"
      ],
      "metadata": {
        "colab": {
          "base_uri": "https://localhost:8080/",
          "height": 206
        },
        "id": "IXjGI_Dy7Zia",
        "outputId": "7afce0b4-2890-4b83-c49b-69e353f00a55"
      },
      "execution_count": 6,
      "outputs": [
        {
          "output_type": "execute_result",
          "data": {
            "text/plain": [
              "                                          tweet_text actual_value  \\\n",
              "0  \"\\n\\nI decided on \"\"breached\"\" as a term to de...           []   \n",
              "1  Support Adding information regarding the 2007 ...           []   \n",
              "2  Stick to topic \\n\\nI would suggest cleaning up...           []   \n",
              "3  20 moments where e.g. or i.e. is used in an ar...           []   \n",
              "4  \"\\n\\n ADHD \\n\\nIt was a fight there for a whil...           []   \n",
              "\n",
              "   is_cyberbullying  \n",
              "0                 0  \n",
              "1                 0  \n",
              "2                 0  \n",
              "3                 0  \n",
              "4                 0  "
            ],
            "text/html": [
              "<div>\n",
              "<style scoped>\n",
              "    .dataframe tbody tr th:only-of-type {\n",
              "        vertical-align: middle;\n",
              "    }\n",
              "\n",
              "    .dataframe tbody tr th {\n",
              "        vertical-align: top;\n",
              "    }\n",
              "\n",
              "    .dataframe thead th {\n",
              "        text-align: right;\n",
              "    }\n",
              "</style>\n",
              "<table border=\"1\" class=\"dataframe\">\n",
              "  <thead>\n",
              "    <tr style=\"text-align: right;\">\n",
              "      <th></th>\n",
              "      <th>tweet_text</th>\n",
              "      <th>actual_value</th>\n",
              "      <th>is_cyberbullying</th>\n",
              "    </tr>\n",
              "  </thead>\n",
              "  <tbody>\n",
              "    <tr>\n",
              "      <th>0</th>\n",
              "      <td>\"\\n\\nI decided on \"\"breached\"\" as a term to de...</td>\n",
              "      <td>[]</td>\n",
              "      <td>0</td>\n",
              "    </tr>\n",
              "    <tr>\n",
              "      <th>1</th>\n",
              "      <td>Support Adding information regarding the 2007 ...</td>\n",
              "      <td>[]</td>\n",
              "      <td>0</td>\n",
              "    </tr>\n",
              "    <tr>\n",
              "      <th>2</th>\n",
              "      <td>Stick to topic \\n\\nI would suggest cleaning up...</td>\n",
              "      <td>[]</td>\n",
              "      <td>0</td>\n",
              "    </tr>\n",
              "    <tr>\n",
              "      <th>3</th>\n",
              "      <td>20 moments where e.g. or i.e. is used in an ar...</td>\n",
              "      <td>[]</td>\n",
              "      <td>0</td>\n",
              "    </tr>\n",
              "    <tr>\n",
              "      <th>4</th>\n",
              "      <td>\"\\n\\n ADHD \\n\\nIt was a fight there for a whil...</td>\n",
              "      <td>[]</td>\n",
              "      <td>0</td>\n",
              "    </tr>\n",
              "  </tbody>\n",
              "</table>\n",
              "</div>"
            ]
          },
          "metadata": {},
          "execution_count": 6
        }
      ]
    },
    {
      "cell_type": "markdown",
      "source": [
        "**Data Preprocessing**"
      ],
      "metadata": {
        "id": "f0YN4wodGBLw"
      }
    },
    {
      "cell_type": "code",
      "source": [
        "def show_random_tweet(data):\n",
        "    return data.iloc[random.randint(0,len(data)),0]"
      ],
      "metadata": {
        "id": "S5KxOsz1IUjI"
      },
      "execution_count": 7,
      "outputs": []
    },
    {
      "cell_type": "code",
      "source": [
        "show_random_tweet(full_train_data)"
      ],
      "metadata": {
        "colab": {
          "base_uri": "https://localhost:8080/"
        },
        "id": "uutKmyV2GQUq",
        "outputId": "779cf228-4381-455c-c854-03167aa8d1c8"
      },
      "execution_count": 8,
      "outputs": [
        {
          "output_type": "execute_result",
          "data": {
            "text/plain": [
              "'Nothing to report: all is... within acceptable limits? #hateMondays #meh'"
            ]
          },
          "metadata": {},
          "execution_count": 8
        }
      ]
    },
    {
      "cell_type": "code",
      "source": [
        "full_train_data.loc[1,'tweet_text']"
      ],
      "metadata": {
        "colab": {
          "base_uri": "https://localhost:8080/"
        },
        "id": "1WHjE9kbGVKk",
        "outputId": "b74ac90f-487f-4cae-a854-d0fc075f0eb5"
      },
      "execution_count": 9,
      "outputs": [
        {
          "output_type": "execute_result",
          "data": {
            "text/plain": [
              "'Why is #aussietv so white? #MKR #theblock #ImACelebrityAU #today #sunrise #studio10 #Neighbours #WonderlandTen #etc'"
            ]
          },
          "metadata": {},
          "execution_count": 9
        }
      ]
    },
    {
      "cell_type": "code",
      "source": [
        "full_train_data.loc[4,'tweet_text']"
      ],
      "metadata": {
        "colab": {
          "base_uri": "https://localhost:8080/"
        },
        "id": "aqZyj71gHw0F",
        "outputId": "8a70c968-a13e-479a-c931-fe41e948023d"
      },
      "execution_count": 10,
      "outputs": [
        {
          "output_type": "execute_result",
          "data": {
            "text/plain": [
              "'@RudhoeEnglish This is an ISIS account pretending to be a Kurdish account.  Like Islam, it is all lies.'"
            ]
          },
          "metadata": {},
          "execution_count": 10
        }
      ]
    },
    {
      "cell_type": "code",
      "source": [
        "full_train_data.loc[10,'tweet_text']"
      ],
      "metadata": {
        "colab": {
          "base_uri": "https://localhost:8080/"
        },
        "id": "IHSQKI1_H7YR",
        "outputId": "67599f2d-bec0-4a92-ad9c-334902f433f1"
      },
      "execution_count": 11,
      "outputs": [
        {
          "output_type": "execute_result",
          "data": {
            "text/plain": [
              "'@Jord_Is_Dead http://t.co/UsQInYW5Gn'"
            ]
          },
          "metadata": {},
          "execution_count": 11
        }
      ]
    },
    {
      "cell_type": "markdown",
      "source": [
        "**These samples shows the tags, mentions and links contained in the tweets can be removed as part of pre-processing**"
      ],
      "metadata": {
        "id": "hN9INNb0J4iv"
      }
    },
    {
      "cell_type": "code",
      "source": [
        "def get_emoji_regexp():\n",
        "    # Sort emoji by length to make sure multi-character emojis are\n",
        "    # matched first\n",
        "    emojis = sorted(emoji.EMOJI_DATA, key=len, reverse=True)\n",
        "    pattern = u'(' + u'|'.join(re.escape(u) for u in emojis) + u')'\n",
        "    return re.compile(pattern)"
      ],
      "metadata": {
        "id": "Joh6WALMcTvw"
      },
      "execution_count": 12,
      "outputs": []
    },
    {
      "cell_type": "code",
      "source": [
        "banned_list= string.punctuation\n",
        "punctuation_reg_exp = \"[\" + banned_list + \"]\"\n",
        "emoji_reg_exp = get_emoji_regexp()\n",
        "\n",
        "def stemmer(text):\n",
        "    tokenized = nltk.word_tokenize(text)\n",
        "    ps = PorterStemmer()\n",
        "    return ' '.join([ps.stem(words) for words in tokenized])\n",
        "\n",
        "def clean_text(text):\n",
        "    text = text.replace('\\r', '').replace('\\n', ' ').lower()\n",
        "    text = re.sub(r\"(?:\\@|https?\\://)\\S+\", \"\", text)\n",
        "\n",
        "    text = [word for word in text.split() if word not in stop_words]\n",
        "    text = ' '.join(text)\n",
        "\n",
        "    text = \" \".join(word.strip() for word in re.split('#(?!(?:hashtag)\\b)[\\w-]+(?=(?:\\s+#[\\w-]+)*\\s*$)', text))\n",
        "    \n",
        "    text = re.sub(punctuation_reg_exp,\"\",text)\n",
        "\n",
        "    text = re.sub(\"\\s\\s+\" , \" \", text)\n",
        "\n",
        "    text = re.sub(emoji_reg_exp, r\"\", text)\n",
        "\n",
        "    text = stemmer(text)\n",
        "    return text"
      ],
      "metadata": {
        "id": "cXrlbCfDKBTI"
      },
      "execution_count": 13,
      "outputs": []
    },
    {
      "cell_type": "code",
      "source": [
        "banned_list"
      ],
      "metadata": {
        "colab": {
          "base_uri": "https://localhost:8080/"
        },
        "id": "EnZDYG7aS2oK",
        "outputId": "cc6be37f-8a8d-4b33-9a53-bcb6c62ce160"
      },
      "execution_count": 14,
      "outputs": [
        {
          "output_type": "execute_result",
          "data": {
            "text/plain": [
              "'!\"#$%&\\'()*+,-./:;<=>?@[\\\\]^_`{|}~'"
            ]
          },
          "metadata": {},
          "execution_count": 14
        }
      ]
    },
    {
      "cell_type": "code",
      "source": [
        "print(full_train_data.loc[1,'tweet_text'])\n",
        "clean_text(full_train_data.loc[1,'tweet_text'])"
      ],
      "metadata": {
        "id": "ZVRE3OsQMoNT",
        "colab": {
          "base_uri": "https://localhost:8080/"
        },
        "outputId": "d5f87053-c24e-4c72-ca6b-41f3b4ae2d89"
      },
      "execution_count": 15,
      "outputs": [
        {
          "output_type": "stream",
          "name": "stdout",
          "text": [
            "Why is #aussietv so white? #MKR #theblock #ImACelebrityAU #today #sunrise #studio10 #Neighbours #WonderlandTen #etc\n"
          ]
        },
        {
          "output_type": "execute_result",
          "data": {
            "text/plain": [
              "'aussietv white'"
            ]
          },
          "metadata": {},
          "execution_count": 15
        }
      ]
    },
    {
      "cell_type": "code",
      "source": [
        "print(full_train_data.loc[4,'tweet_text'])\n",
        "clean_text(full_train_data.loc[4,'tweet_text'])"
      ],
      "metadata": {
        "colab": {
          "base_uri": "https://localhost:8080/"
        },
        "id": "r1RfjdrTVHd-",
        "outputId": "b46bc3e1-7de8-4d9d-dd3b-8546d62cbf84"
      },
      "execution_count": 16,
      "outputs": [
        {
          "output_type": "stream",
          "name": "stdout",
          "text": [
            "@RudhoeEnglish This is an ISIS account pretending to be a Kurdish account.  Like Islam, it is all lies.\n"
          ]
        },
        {
          "output_type": "execute_result",
          "data": {
            "text/plain": [
              "'isi account pretend kurdish account like islam lie'"
            ]
          },
          "metadata": {},
          "execution_count": 16
        }
      ]
    },
    {
      "cell_type": "code",
      "source": [
        "print(full_train_data.loc[10,'tweet_text'])\n",
        "clean_text(full_train_data.loc[10,'tweet_text'])"
      ],
      "metadata": {
        "colab": {
          "base_uri": "https://localhost:8080/"
        },
        "id": "e42WFvo_StIX",
        "outputId": "9c23c2f3-3207-43d3-ea2d-8e93399aaa52"
      },
      "execution_count": 17,
      "outputs": [
        {
          "output_type": "stream",
          "name": "stdout",
          "text": [
            "@Jord_Is_Dead http://t.co/UsQInYW5Gn\n"
          ]
        },
        {
          "output_type": "execute_result",
          "data": {
            "text/plain": [
              "''"
            ]
          },
          "metadata": {},
          "execution_count": 17
        }
      ]
    },
    {
      "cell_type": "markdown",
      "source": [
        "**Clean Datasets**"
      ],
      "metadata": {
        "id": "EHHfbWVxdYw1"
      }
    },
    {
      "cell_type": "code",
      "source": [
        "full_train_data['cleaned'] = full_train_data['tweet_text'].apply(clean_text)"
      ],
      "metadata": {
        "id": "t34oTXvxVGUu"
      },
      "execution_count": 18,
      "outputs": []
    },
    {
      "cell_type": "code",
      "source": [
        "full_train_data"
      ],
      "metadata": {
        "colab": {
          "base_uri": "https://localhost:8080/",
          "height": 424
        },
        "id": "yhKgjq3DaNnq",
        "outputId": "f7533e52-2b24-4906-9199-7b55ddffb397"
      },
      "execution_count": 19,
      "outputs": [
        {
          "output_type": "execute_result",
          "data": {
            "text/plain": [
              "                                              tweet_text cyberbullying_type  \\\n",
              "0      In other words #katandandre, your food was cra...  not_cyberbullying   \n",
              "1      Why is #aussietv so white? #MKR #theblock #ImA...  not_cyberbullying   \n",
              "2      @XochitlSuckkks a classy whore? Or more red ve...  not_cyberbullying   \n",
              "3      @Jason_Gio meh. :P  thanks for the heads up, b...  not_cyberbullying   \n",
              "4      @RudhoeEnglish This is an ISIS account pretend...  not_cyberbullying   \n",
              "...                                                  ...                ...   \n",
              "77687  I'll just do this ==\\n\\nI'll flush out the art...  not_cyberbullying   \n",
              "77688  \"\\nAre you a sock puppet trying to answer my q...  not_cyberbullying   \n",
              "77689  Church of England \\n\\nIn 2013, Church of Engla...  not_cyberbullying   \n",
              "77690  \"\\n\\nMuch better, thanks.  Now why can't I do ...  not_cyberbullying   \n",
              "77691  WikiProject Pennsylvania\\n\\nThank you very muc...  not_cyberbullying   \n",
              "\n",
              "       is_cyberbullying                                            cleaned  \n",
              "0                     0                     word katandandr food crapilici  \n",
              "1                     0                                     aussietv white  \n",
              "2                     0                     classi whore red velvet cupcak  \n",
              "3                     0  meh p thank head up concern anoth angri dude t...  \n",
              "4                     0  isi account pretend kurdish account like islam...  \n",
              "...                 ...                                                ...  \n",
              "77687                 0  ill ill flush articl scrub tuesday im done guy...  \n",
              "77688                 0  sock puppet tri answer question think so proba...  \n",
              "77689                 0  church england 2013 church england end ban gay...  \n",
              "77690                 0                   much better thank cant that doom  \n",
              "77691                 0  wikiproject pennsylvania thank much contribut ...  \n",
              "\n",
              "[77692 rows x 4 columns]"
            ],
            "text/html": [
              "<div>\n",
              "<style scoped>\n",
              "    .dataframe tbody tr th:only-of-type {\n",
              "        vertical-align: middle;\n",
              "    }\n",
              "\n",
              "    .dataframe tbody tr th {\n",
              "        vertical-align: top;\n",
              "    }\n",
              "\n",
              "    .dataframe thead th {\n",
              "        text-align: right;\n",
              "    }\n",
              "</style>\n",
              "<table border=\"1\" class=\"dataframe\">\n",
              "  <thead>\n",
              "    <tr style=\"text-align: right;\">\n",
              "      <th></th>\n",
              "      <th>tweet_text</th>\n",
              "      <th>cyberbullying_type</th>\n",
              "      <th>is_cyberbullying</th>\n",
              "      <th>cleaned</th>\n",
              "    </tr>\n",
              "  </thead>\n",
              "  <tbody>\n",
              "    <tr>\n",
              "      <th>0</th>\n",
              "      <td>In other words #katandandre, your food was cra...</td>\n",
              "      <td>not_cyberbullying</td>\n",
              "      <td>0</td>\n",
              "      <td>word katandandr food crapilici</td>\n",
              "    </tr>\n",
              "    <tr>\n",
              "      <th>1</th>\n",
              "      <td>Why is #aussietv so white? #MKR #theblock #ImA...</td>\n",
              "      <td>not_cyberbullying</td>\n",
              "      <td>0</td>\n",
              "      <td>aussietv white</td>\n",
              "    </tr>\n",
              "    <tr>\n",
              "      <th>2</th>\n",
              "      <td>@XochitlSuckkks a classy whore? Or more red ve...</td>\n",
              "      <td>not_cyberbullying</td>\n",
              "      <td>0</td>\n",
              "      <td>classi whore red velvet cupcak</td>\n",
              "    </tr>\n",
              "    <tr>\n",
              "      <th>3</th>\n",
              "      <td>@Jason_Gio meh. :P  thanks for the heads up, b...</td>\n",
              "      <td>not_cyberbullying</td>\n",
              "      <td>0</td>\n",
              "      <td>meh p thank head up concern anoth angri dude t...</td>\n",
              "    </tr>\n",
              "    <tr>\n",
              "      <th>4</th>\n",
              "      <td>@RudhoeEnglish This is an ISIS account pretend...</td>\n",
              "      <td>not_cyberbullying</td>\n",
              "      <td>0</td>\n",
              "      <td>isi account pretend kurdish account like islam...</td>\n",
              "    </tr>\n",
              "    <tr>\n",
              "      <th>...</th>\n",
              "      <td>...</td>\n",
              "      <td>...</td>\n",
              "      <td>...</td>\n",
              "      <td>...</td>\n",
              "    </tr>\n",
              "    <tr>\n",
              "      <th>77687</th>\n",
              "      <td>I'll just do this ==\\n\\nI'll flush out the art...</td>\n",
              "      <td>not_cyberbullying</td>\n",
              "      <td>0</td>\n",
              "      <td>ill ill flush articl scrub tuesday im done guy...</td>\n",
              "    </tr>\n",
              "    <tr>\n",
              "      <th>77688</th>\n",
              "      <td>\"\\nAre you a sock puppet trying to answer my q...</td>\n",
              "      <td>not_cyberbullying</td>\n",
              "      <td>0</td>\n",
              "      <td>sock puppet tri answer question think so proba...</td>\n",
              "    </tr>\n",
              "    <tr>\n",
              "      <th>77689</th>\n",
              "      <td>Church of England \\n\\nIn 2013, Church of Engla...</td>\n",
              "      <td>not_cyberbullying</td>\n",
              "      <td>0</td>\n",
              "      <td>church england 2013 church england end ban gay...</td>\n",
              "    </tr>\n",
              "    <tr>\n",
              "      <th>77690</th>\n",
              "      <td>\"\\n\\nMuch better, thanks.  Now why can't I do ...</td>\n",
              "      <td>not_cyberbullying</td>\n",
              "      <td>0</td>\n",
              "      <td>much better thank cant that doom</td>\n",
              "    </tr>\n",
              "    <tr>\n",
              "      <th>77691</th>\n",
              "      <td>WikiProject Pennsylvania\\n\\nThank you very muc...</td>\n",
              "      <td>not_cyberbullying</td>\n",
              "      <td>0</td>\n",
              "      <td>wikiproject pennsylvania thank much contribut ...</td>\n",
              "    </tr>\n",
              "  </tbody>\n",
              "</table>\n",
              "<p>77692 rows × 4 columns</p>\n",
              "</div>"
            ]
          },
          "metadata": {},
          "execution_count": 19
        }
      ]
    },
    {
      "cell_type": "code",
      "source": [
        "test_data['cleaned'] = test_data['tweet_text'].apply(clean_text)"
      ],
      "metadata": {
        "id": "Mww753NuaY1P"
      },
      "execution_count": 20,
      "outputs": []
    },
    {
      "cell_type": "markdown",
      "source": [
        "**Remove Duplicates**"
      ],
      "metadata": {
        "id": "-3e0OxJ2dpT6"
      }
    },
    {
      "cell_type": "code",
      "source": [
        "full_train_data['cleaned'].duplicated().sum()"
      ],
      "metadata": {
        "colab": {
          "base_uri": "https://localhost:8080/"
        },
        "id": "ys4JNBaddm8m",
        "outputId": "01d46026-95f2-4533-b438-7b51c6817144"
      },
      "execution_count": 21,
      "outputs": [
        {
          "output_type": "execute_result",
          "data": {
            "text/plain": [
              "3018"
            ]
          },
          "metadata": {},
          "execution_count": 21
        }
      ]
    },
    {
      "cell_type": "code",
      "source": [
        "test_data['cleaned'].duplicated().sum()"
      ],
      "metadata": {
        "colab": {
          "base_uri": "https://localhost:8080/"
        },
        "id": "rwEzPR6mdMZX",
        "outputId": "a4a0d6c3-3e3a-4867-c8d6-418ddb1e74fb"
      },
      "execution_count": 22,
      "outputs": [
        {
          "output_type": "execute_result",
          "data": {
            "text/plain": [
              "5"
            ]
          },
          "metadata": {},
          "execution_count": 22
        }
      ]
    },
    {
      "cell_type": "code",
      "source": [
        "cleaned_train_data = full_train_data.drop_duplicates(\"cleaned\")\n",
        "cleaned_test_data = test_data.drop_duplicates(\"cleaned\")"
      ],
      "metadata": {
        "id": "XUfo1VVqdWs2"
      },
      "execution_count": 23,
      "outputs": []
    },
    {
      "cell_type": "code",
      "source": [
        "cleaned_train_data['cleaned'].duplicated().sum()"
      ],
      "metadata": {
        "colab": {
          "base_uri": "https://localhost:8080/"
        },
        "id": "8rB8OYgGdz4j",
        "outputId": "0a7ba29e-256e-432a-91d4-5dd0a09074d2"
      },
      "execution_count": 24,
      "outputs": [
        {
          "output_type": "execute_result",
          "data": {
            "text/plain": [
              "0"
            ]
          },
          "metadata": {},
          "execution_count": 24
        }
      ]
    },
    {
      "cell_type": "code",
      "source": [
        "cleaned_test_data['cleaned'].duplicated().sum()"
      ],
      "metadata": {
        "colab": {
          "base_uri": "https://localhost:8080/"
        },
        "id": "N8VdSsgyd0oa",
        "outputId": "e2b9bc9a-653f-4d21-9c17-329658673240"
      },
      "execution_count": 25,
      "outputs": [
        {
          "output_type": "execute_result",
          "data": {
            "text/plain": [
              "0"
            ]
          },
          "metadata": {},
          "execution_count": 25
        }
      ]
    },
    {
      "cell_type": "code",
      "source": [
        "if store_local:\n",
        "    cleaned_train_data.to_csv(local_path + \"cleaned_train_data.csv\",index=False)\n",
        "    cleaned_test_data.to_csv(local_path + \"cleaned_test_data.csv\",index=False)"
      ],
      "metadata": {
        "id": "iUMNLT8Fd8th"
      },
      "execution_count": 26,
      "outputs": []
    },
    {
      "cell_type": "code",
      "source": [
        ""
      ],
      "metadata": {
        "id": "nuV2388RhQNI"
      },
      "execution_count": 26,
      "outputs": []
    }
  ]
}